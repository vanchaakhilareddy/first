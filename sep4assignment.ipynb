{
 "cells": [
  {
   "cell_type": "code",
   "execution_count": 15,
   "id": "36ce1681",
   "metadata": {},
   "outputs": [
    {
     "name": "stdout",
     "output_type": "stream",
     "text": [
      "fibonacci series of 50 is:\n",
      "1\n",
      "1\n",
      "2\n",
      "3\n",
      "5\n",
      "8\n",
      "13\n",
      "21\n",
      "34\n"
     ]
    }
   ],
   "source": [
    "#  Q1) FIBONACCI SERIES\n",
    "\n",
    "n=50\n",
    "n1=0\n",
    "n2=1\n",
    "print(\"fibonacci series of\", n ,\"is:\")\n",
    "while n2<n:\n",
    "    print(n2)\n",
    "    nth=n1+n2\n",
    "    n1=n2\n",
    "    n2=nth"
   ]
  },
  {
   "cell_type": "code",
   "execution_count": 2,
   "id": "92c72905",
   "metadata": {},
   "outputs": [
    {
     "name": "stdout",
     "output_type": "stream",
     "text": [
      "akhila\n",
      "alihka\n"
     ]
    }
   ],
   "source": [
    "# Q2) MIRROR STRING\n",
    "\n",
    "a=input()\n",
    "print(a[::-1])"
   ]
  },
  {
   "cell_type": "code",
   "execution_count": 8,
   "id": "4ef0387c",
   "metadata": {},
   "outputs": [
    {
     "name": "stdout",
     "output_type": "stream",
     "text": [
      "even num count:  4\n",
      "odd num count:  5\n"
     ]
    }
   ],
   "source": [
    "# Q3) COUNT OF EVEN AND ODD NUMBERS \n",
    "\n",
    "a=(1,2,3,4,5,6,7,8,9)\n",
    "i=evencount=oddcount=0\n",
    "for i in range(len(a)):\n",
    "    if a[i]%2==0:\n",
    "        evencount+=1\n",
    "    else:\n",
    "        oddcount+=1\n",
    "print(\"even num count: \", evencount)\n",
    "print(\"odd num count: \", oddcount)"
   ]
  },
  {
   "cell_type": "code",
   "execution_count": null,
   "id": "1ab92587",
   "metadata": {},
   "outputs": [],
   "source": []
  }
 ],
 "metadata": {
  "kernelspec": {
   "display_name": "Python 3",
   "language": "python",
   "name": "python3"
  },
  "language_info": {
   "codemirror_mode": {
    "name": "ipython",
    "version": 3
   },
   "file_extension": ".py",
   "mimetype": "text/x-python",
   "name": "python",
   "nbconvert_exporter": "python",
   "pygments_lexer": "ipython3",
   "version": "3.8.8"
  }
 },
 "nbformat": 4,
 "nbformat_minor": 5
}
